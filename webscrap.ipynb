{
 "cells": [
  {
   "cell_type": "code",
   "execution_count": null,
   "id": "5eb4a93e",
   "metadata": {},
   "outputs": [
    {
     "name": "stdout",
     "output_type": "stream",
     "text": [
      "Data has been successfully exported to 'perfumes.csv'.\n"
     ]
    }
   ],
   "source": [
    "import requests\n",
    "from bs4 import BeautifulSoup\n",
    "import csv\n",
    "\n",
    "baseurl = \"https://www.venbafragrance.com/\"\n",
    "\n",
    "# Headers for request\n",
    "headers = {\n",
    "    'User-Agent': 'Mozilla/5.0 (Macintosh; Intel Mac OS X 10_15_7) AppleWebKit/537.36 (KHTML, like Gecko) Chrome/124.0.0.0 Safari/537.36'\n",
    "}\n",
    "\n",
    "productlinks = []\n",
    "for x in range(1, 8):\n",
    "    r = requests.get(f'https://www.venbafragrance.com/collections/all-bottles?page={x}', headers=headers)\n",
    "    soup = BeautifulSoup(r.content, \"lxml\")\n",
    "    productlist = soup.find_all('div', class_='product-grid-item')\n",
    "\n",
    "    for item in productlist:\n",
    "        for link in item.find_all('a', href=True):\n",
    "            productlinks.append(baseurl.rstrip('/') + link['href'])\n",
    "\n",
    "# Prepare to write to CSV\n",
    "with open('perfumes.csv', mode='w', newline='', encoding='utf-8') as file:\n",
    "    writer = csv.writer(file)\n",
    "    # Write the header row\n",
    "    writer.writerow(['Brand', 'Rating', 'Reviews', 'Price', 'Image Link'])\n",
    "\n",
    "    for link in productlinks:\n",
    "        r = requests.get(link, headers=headers)\n",
    "        soup = BeautifulSoup(r.content, 'lxml')\n",
    "\n",
    "        # Extracting product details\n",
    "        brand = soup.find('h1', class_='product__title').text.strip() if soup.find('h1', class_='product__title') else \"Brand Not Found\"\n",
    "        rating = float(soup.find('span', class_='jdgm-prev-badge__stars')['data-score']) if soup.find('span', class_='jdgm-prev-badge__stars') else 0.0\n",
    "        reviews = soup.find('span', class_='jdgm-prev-badge__text').text.strip() if soup.find('span', class_='jdgm-prev-badge__text') else \"No Reviews Found\"\n",
    "        price = soup.find('span', class_='product__price').text.strip() if soup.find('span', class_='product__price') else \"Price Not Available\"\n",
    "\n",
    "        # Extracting the image URL\n",
    "        img_tag = soup.find('img', {'data-product-image': True})  # Assuming there is a specific attribute\n",
    "        image_link = img_tag['src'] if img_tag else \"Image link not found\"\n",
    "        if image_link.startswith('//'):\n",
    "            image_link = 'https:' + image_link  # Handling protocol-relative URLs\n",
    "\n",
    "        # Writing row to CSV\n",
    "        writer.writerow([brand, rating, reviews, price, image_link])\n",
    "\n",
    "# print(\"Data has been successfully exported to 'perfumes.csv'.\")\n"
   ]
  },
  {
   "cell_type": "code",
   "execution_count": null,
   "id": "dc30b042",
   "metadata": {},
   "outputs": [],
   "source": [
    "\n"
   ]
  },
  {
   "cell_type": "code",
   "execution_count": null,
   "id": "53d6a7d8",
   "metadata": {},
   "outputs": [],
   "source": []
  },
  {
   "cell_type": "code",
   "execution_count": null,
   "id": "a743b241",
   "metadata": {},
   "outputs": [],
   "source": []
  },
  {
   "cell_type": "code",
   "execution_count": null,
   "id": "cba3fa96",
   "metadata": {},
   "outputs": [],
   "source": []
  },
  {
   "cell_type": "code",
   "execution_count": null,
   "id": "5467d669",
   "metadata": {},
   "outputs": [],
   "source": []
  },
  {
   "cell_type": "code",
   "execution_count": null,
   "id": "520e2cbb",
   "metadata": {},
   "outputs": [],
   "source": []
  },
  {
   "cell_type": "code",
   "execution_count": null,
   "id": "00bf3900",
   "metadata": {},
   "outputs": [],
   "source": []
  },
  {
   "cell_type": "code",
   "execution_count": null,
   "id": "cc4e74d2",
   "metadata": {},
   "outputs": [],
   "source": []
  },
  {
   "cell_type": "code",
   "execution_count": null,
   "id": "98cf197e",
   "metadata": {},
   "outputs": [],
   "source": []
  },
  {
   "cell_type": "code",
   "execution_count": null,
   "id": "ca05a5e7",
   "metadata": {},
   "outputs": [],
   "source": []
  }
 ],
 "metadata": {
  "kernelspec": {
   "display_name": "Python 3 (ipykernel)",
   "language": "python",
   "name": "python3"
  },
  "language_info": {
   "codemirror_mode": {
    "name": "ipython",
    "version": 3
   },
   "file_extension": ".py",
   "mimetype": "text/x-python",
   "name": "python",
   "nbconvert_exporter": "python",
   "pygments_lexer": "ipython3",
   "version": "3.11.4"
  }
 },
 "nbformat": 4,
 "nbformat_minor": 5
}
